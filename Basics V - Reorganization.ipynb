{
 "cells": [
  {
   "cell_type": "code",
   "execution_count": 1,
   "id": "0ea9bf6f",
   "metadata": {},
   "outputs": [],
   "source": [
    "from IPython.core.interactiveshell import InteractiveShell\n",
    "InteractiveShell.ast_node_interactivity = \"all\"\n",
    "\n",
    "import numpy as np"
   ]
  },
  {
   "cell_type": "code",
   "execution_count": 3,
   "id": "4c2273c3",
   "metadata": {},
   "outputs": [
    {
     "data": {
      "text/plain": [
       "array([[1, 2, 3, 4],\n",
       "       [5, 6, 7, 8]])"
      ]
     },
     "execution_count": 3,
     "metadata": {},
     "output_type": "execute_result"
    },
    {
     "data": {
      "text/plain": [
       "array([[1],\n",
       "       [2],\n",
       "       [3],\n",
       "       [4],\n",
       "       [5],\n",
       "       [6],\n",
       "       [7],\n",
       "       [8]])"
      ]
     },
     "execution_count": 3,
     "metadata": {},
     "output_type": "execute_result"
    },
    {
     "data": {
      "text/plain": [
       "array([[1, 2],\n",
       "       [3, 4],\n",
       "       [5, 6],\n",
       "       [7, 8]])"
      ]
     },
     "execution_count": 3,
     "metadata": {},
     "output_type": "execute_result"
    }
   ],
   "source": [
    "# Reorganization\n",
    "\n",
    "before = np.array([[1, 2, 3, 4], [5, 6, 7, 8]])\n",
    "before\n",
    "\n",
    "after = before.reshape((8, 1))\n",
    "after\n",
    "\n",
    "after_two = before.reshape((4, 2))\n",
    "after_two"
   ]
  },
  {
   "cell_type": "code",
   "execution_count": 5,
   "id": "237a4058",
   "metadata": {},
   "outputs": [
    {
     "data": {
      "text/plain": [
       "array([[1, 2, 3, 4],\n",
       "       [2, 4, 6, 8],\n",
       "       [1, 2, 3, 4],\n",
       "       [1, 2, 3, 4]])"
      ]
     },
     "execution_count": 5,
     "metadata": {},
     "output_type": "execute_result"
    }
   ],
   "source": [
    "# Vertical Stacking\n",
    "\n",
    "v1 = np.array([1, 2, 3, 4])\n",
    "v2 = np.array([2, 4, 6, 8])\n",
    "\n",
    "np.vstack([v1, v2, v1, v1])"
   ]
  },
  {
   "cell_type": "code",
   "execution_count": 7,
   "id": "dd4aca65",
   "metadata": {},
   "outputs": [
    {
     "data": {
      "text/plain": [
       "array([[1., 1., 1., 1.],\n",
       "       [1., 1., 1., 1.]])"
      ]
     },
     "execution_count": 7,
     "metadata": {},
     "output_type": "execute_result"
    },
    {
     "data": {
      "text/plain": [
       "array([[0., 0.],\n",
       "       [0., 0.]])"
      ]
     },
     "execution_count": 7,
     "metadata": {},
     "output_type": "execute_result"
    },
    {
     "data": {
      "text/plain": [
       "array([[1., 1., 1., 1., 0., 0.],\n",
       "       [1., 1., 1., 1., 0., 0.]])"
      ]
     },
     "execution_count": 7,
     "metadata": {},
     "output_type": "execute_result"
    }
   ],
   "source": [
    "# Horizontal Stacking\n",
    "\n",
    "h1 = np.ones((2, 4))\n",
    "h2 = np.zeros((2, 2))\n",
    "\n",
    "h1\n",
    "h2\n",
    "\n",
    "np.hstack((h1, h2))"
   ]
  },
  {
   "cell_type": "code",
   "execution_count": 13,
   "id": "50305d53",
   "metadata": {},
   "outputs": [
    {
     "name": "stdout",
     "output_type": "stream",
     "text": [
      "9,1,3,0,5,4,2,0,6,3,2,2,4,6,4,3,2,7,0,2\n",
      "1,7,6,3,4,0,1,7,2,7,3,1,3,2,2,5,10,4,9,8\n",
      "9,3,3,9,9,2,2,6,8,6,7,6,5,1,7,4,7,9,8,0\n",
      "2,2,10,0,0,5,7,6,9,10,10,3,7,9,3,5,3,0,8,3\n"
     ]
    }
   ],
   "source": [
    "# Generate Random numbers and storing in an Array\n",
    "\n",
    "from random import randint\n",
    "\n",
    "for _ in range(4):\n",
    "    print(\",\".join([str(randint(0, 10)) for _ in range(20)]))\n",
    "    \n",
    "# Copy below to data.txt"
   ]
  },
  {
   "cell_type": "code",
   "execution_count": 14,
   "id": "e37b3512",
   "metadata": {},
   "outputs": [
    {
     "data": {
      "text/plain": [
       "array([[ 9,  1,  3,  0,  5,  4,  2,  0,  6,  3,  2,  2,  4,  6,  4,  3,\n",
       "         2,  7,  0,  2],\n",
       "       [ 1,  7,  6,  3,  4,  0,  1,  7,  2,  7,  3,  1,  3,  2,  2,  5,\n",
       "        10,  4,  9,  8],\n",
       "       [ 9,  3,  3,  9,  9,  2,  2,  6,  8,  6,  7,  6,  5,  1,  7,  4,\n",
       "         7,  9,  8,  0],\n",
       "       [ 2,  2, 10,  0,  0,  5,  7,  6,  9, 10, 10,  3,  7,  9,  3,  5,\n",
       "         3,  0,  8,  3]], dtype=int32)"
      ]
     },
     "execution_count": 14,
     "metadata": {},
     "output_type": "execute_result"
    }
   ],
   "source": [
    "# Load Data from File\n",
    "\n",
    "filedata = np.genfromtxt(\"data.txt\", delimiter = ',')\n",
    "filedata = filedata.astype(\"int32\")\n",
    "filedata"
   ]
  },
  {
   "cell_type": "code",
   "execution_count": 16,
   "id": "9b1d25c2",
   "metadata": {},
   "outputs": [
    {
     "data": {
      "text/plain": [
       "array([[ True, False, False, False, False, False, False, False,  True,\n",
       "        False, False, False, False,  True, False, False, False,  True,\n",
       "        False, False],\n",
       "       [False,  True,  True, False, False, False, False,  True, False,\n",
       "         True, False, False, False, False, False, False,  True, False,\n",
       "         True,  True],\n",
       "       [ True, False, False,  True,  True, False, False,  True,  True,\n",
       "         True,  True,  True, False, False,  True, False,  True,  True,\n",
       "         True, False],\n",
       "       [False, False,  True, False, False, False,  True,  True,  True,\n",
       "         True,  True, False,  True,  True, False, False, False, False,\n",
       "         True, False]])"
      ]
     },
     "execution_count": 16,
     "metadata": {},
     "output_type": "execute_result"
    }
   ],
   "source": [
    "# Advanced Indexing & Boolean Masking\n",
    "\n",
    "filedata > 5"
   ]
  },
  {
   "cell_type": "code",
   "execution_count": 17,
   "id": "25290b5d",
   "metadata": {},
   "outputs": [
    {
     "data": {
      "text/plain": [
       "array([ 9,  6,  6,  7,  7,  6,  7,  7, 10,  9,  8,  9,  9,  9,  6,  8,  6,\n",
       "        7,  6,  7,  7,  9,  8, 10,  7,  6,  9, 10, 10,  7,  9,  8],\n",
       "      dtype=int32)"
      ]
     },
     "execution_count": 17,
     "metadata": {},
     "output_type": "execute_result"
    }
   ],
   "source": [
    "filedata[filedata > 5]"
   ]
  },
  {
   "cell_type": "code",
   "execution_count": 21,
   "id": "3dda0171",
   "metadata": {},
   "outputs": [
    {
     "data": {
      "text/plain": [
       "array([ True,  True,  True,  True,  True, False,  True,  True,  True,\n",
       "        True,  True,  True,  True,  True,  True, False,  True,  True,\n",
       "        True,  True])"
      ]
     },
     "execution_count": 21,
     "metadata": {},
     "output_type": "execute_result"
    },
    {
     "data": {
      "text/plain": [
       "array([False, False,  True, False, False, False, False, False, False,\n",
       "        True, False, False,  True, False, False,  True, False, False,\n",
       "       False, False])"
      ]
     },
     "execution_count": 21,
     "metadata": {},
     "output_type": "execute_result"
    }
   ],
   "source": [
    "np.any(filedata > 5, axis = 0)\n",
    "\n",
    "np.all(filedata > 2, axis = 0)"
   ]
  },
  {
   "cell_type": "code",
   "execution_count": null,
   "id": "3bece574",
   "metadata": {},
   "outputs": [],
   "source": []
  }
 ],
 "metadata": {
  "kernelspec": {
   "display_name": "Python 3",
   "language": "python",
   "name": "python3"
  },
  "language_info": {
   "codemirror_mode": {
    "name": "ipython",
    "version": 3
   },
   "file_extension": ".py",
   "mimetype": "text/x-python",
   "name": "python",
   "nbconvert_exporter": "python",
   "pygments_lexer": "ipython3",
   "version": "3.8.8"
  }
 },
 "nbformat": 4,
 "nbformat_minor": 5
}
